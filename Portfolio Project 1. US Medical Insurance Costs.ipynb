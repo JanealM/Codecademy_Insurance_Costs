{
 "cells": [
  {
   "cell_type": "markdown",
   "id": "ecf5fb2c",
   "metadata": {},
   "source": [
    "# Portfolio Project: US Medical Insurance Costs"
   ]
  },
  {
   "cell_type": "markdown",
   "id": "b22c4aae",
   "metadata": {},
   "source": [
    "This project aims to analyse data in a CSV file using Python fundamentals. The CSV file contains data on patients and their medical insurance costs in the U.S. The attributes found in **insurance.csv** will be used to gain insight on the influence on medical costs given patient information."
   ]
  },
  {
   "cell_type": "markdown",
   "id": "e00cbf45",
   "metadata": {},
   "source": [
    "To begin, the csv library will be needed to work with **insurance.csv** data.\n",
    "\n",
    "The next step is to look over the data and check certain aspects in order to know how to import the data into a Python file. These aspects are:\n",
    "\n",
    "* The names of columns\n",
    "* Missing data\n",
    "* Which columns are numerical or categorical"
   ]
  },
  {
   "cell_type": "code",
   "execution_count": 4,
   "id": "7322cc2e",
   "metadata": {},
   "outputs": [],
   "source": [
    "#import csv library\n",
    "import csv "
   ]
  },
  {
   "cell_type": "code",
   "execution_count": 5,
   "id": "28d174d5",
   "metadata": {},
   "outputs": [],
   "source": [
    "with open('insurance.csv', mode='r') as file:\n",
    "        csv_reader = csv.DictReader(file)"
   ]
  },
  {
   "cell_type": "code",
   "execution_count": 6,
   "id": "97c53c4a",
   "metadata": {},
   "outputs": [
    {
     "name": "stdout",
     "output_type": "stream",
     "text": [
      "Headers: ['age', 'sex', 'bmi', 'children', 'smoker', 'region', 'charges']\n",
      "['19', 'female', '27.9', '0', 'yes', 'southwest', '16884.924']\n",
      "['18', 'male', '33.77', '1', 'no', 'southeast', '1725.5523']\n",
      "['28', 'male', '33', '3', 'no', 'southeast', '4449.462']\n",
      "['33', 'male', '22.705', '0', 'no', 'northwest', '21984.47061']\n",
      "['32', 'male', '28.88', '0', 'no', 'northwest', '3866.8552']\n",
      "['31', 'female', '25.74', '0', 'no', 'southeast', '3756.6216']\n",
      "['46', 'female', '33.44', '1', 'no', 'southeast', '8240.5896']\n",
      "['37', 'female', '27.74', '3', 'no', 'northwest', '7281.5056']\n",
      "['37', 'male', '29.83', '2', 'no', 'northeast', '6406.4107']\n",
      "['60', 'female', '25.84', '0', 'no', 'northwest', '28923.13692']\n"
     ]
    }
   ],
   "source": [
    "def print_first_10_rows(filename):\n",
    "    # Open the CSV file\n",
    "    with open(filename, mode='r') as file:\n",
    "        csv_reader = csv.reader(file)\n",
    "        \n",
    "        # Get the header\n",
    "        headers = next(csv_reader)\n",
    "        print(f'Headers: {headers}')\n",
    "        \n",
    "        # Initialize a counter\n",
    "        row_count = 0\n",
    "        \n",
    "        # Iterate over the rows in the CSV file\n",
    "        for row in csv_reader:\n",
    "            if row_count < 10:\n",
    "                print(row)\n",
    "                row_count += 1\n",
    "            else:\n",
    "                break\n",
    "\n",
    "# Usage\n",
    "filename = 'insurance.csv'\n",
    "print_first_10_rows(filename)"
   ]
  },
  {
   "cell_type": "code",
   "execution_count": 7,
   "id": "89b4d88e",
   "metadata": {},
   "outputs": [
    {
     "name": "stdout",
     "output_type": "stream",
     "text": [
      "No missing data found.\n"
     ]
    }
   ],
   "source": [
    "def check_missing_data(filename):\n",
    "    # Open the CSV file\n",
    "    with open(filename, mode='r') as file:\n",
    "        csv_reader = csv.reader(file)\n",
    "        \n",
    "        # Get the header\n",
    "        headers = next(csv_reader)\n",
    "        \n",
    "        # Initialize a list to keep track of rows with missing data\n",
    "        missing_data_rows = []\n",
    "        \n",
    "        # Iterate over each row in the CSV file\n",
    "        for row_num, row in enumerate(csv_reader, start=1):\n",
    "            # Check each cell in the row\n",
    "            for col_num, cell in enumerate(row):\n",
    "                if cell.strip() == '':\n",
    "                    missing_data_rows.append((row_num, headers[col_num]))\n",
    "        \n",
    "        return missing_data_rows\n",
    "\n",
    "# Usage\n",
    "filename = 'insurance.csv'\n",
    "missing_data = check_missing_data(filename)\n",
    "if missing_data:\n",
    "    print(\"Missing data found in the following cells (row, column):\")\n",
    "    for row, col in missing_data:\n",
    "        print(f\"Row {row}, Column '{col}'\")\n",
    "else:\n",
    "    print('No missing data found.')\n"
   ]
  },
  {
   "cell_type": "markdown",
   "id": "abda8575",
   "metadata": {},
   "source": [
    "**insurance.csv** contains the following columns:\n",
    "* Patient Age\n",
    "* Patient Sex \n",
    "* Patient BMI\n",
    "* Patient Number of Children\n",
    "* Patient Smoking Status\n",
    "* Patient U.S Geographical Region\n",
    "* Patient Yearly Medical Insurance Cost\n",
    "\n",
    "There are no signs of missing data. \n",
    "\n",
    "To store this information, seven empty lists will be created hold each individual column of data from **insurance.csv**."
   ]
  },
  {
   "cell_type": "code",
   "execution_count": 86,
   "id": "533beb2d",
   "metadata": {},
   "outputs": [
    {
     "name": "stdout",
     "output_type": "stream",
     "text": [
      "Data Summary:\n",
      "\n",
      "age:\n",
      "  Number of entries: 1338\n",
      "  Sample values: [19, 18, 28, 33, 32]\n",
      "\n",
      "sex:\n",
      "  Number of entries: 1338\n",
      "  Sample values: ['female', 'male', 'male', 'male', 'male']\n",
      "\n",
      "bmi:\n",
      "  Number of entries: 1338\n",
      "  Sample values: [27.9, 33.77, 33.0, 22.705, 28.88]\n",
      "\n",
      "children:\n",
      "  Number of entries: 1338\n",
      "  Sample values: [0, 1, 3, 0, 0]\n",
      "\n",
      "smoker:\n",
      "  Number of entries: 1338\n",
      "  Sample values: ['yes', 'no', 'no', 'no', 'no']\n",
      "\n",
      "region:\n",
      "  Number of entries: 1338\n",
      "  Sample values: ['southwest', 'southeast', 'southeast', 'northwest', 'northwest']\n",
      "\n",
      "charges:\n",
      "  Number of entries: 1338\n",
      "  Sample values: [16884.924, 1725.5523, 4449.462, 21984.47061, 3866.8552]\n"
     ]
    }
   ],
   "source": [
    "def load_data_into_lists(filename):\n",
    "    # Initialize a dictionary to hold the data lists\n",
    "    patient_dict = {\n",
    "        \"age\": [],\n",
    "        \"sex\": [],\n",
    "        \"bmi\": [],\n",
    "        \"children\": [],\n",
    "        \"smoker\": [],\n",
    "        \"region\": [],\n",
    "        \"charges\": []\n",
    "    }\n",
    "    \n",
    "    # Open and read the CSV file\n",
    "    with open(filename, mode='r') as file:\n",
    "        csv_reader = csv.DictReader(file)\n",
    "        \n",
    "        # Iterate over each row in the CSV file\n",
    "        for row in csv_reader:\n",
    "            patient_dict[\"age\"].append(int(row[\"age\"]))\n",
    "            patient_dict[\"sex\"].append(row[\"sex\"])\n",
    "            patient_dict[\"bmi\"].append(float(row[\"bmi\"]))\n",
    "            patient_dict[\"children\"].append(int(row[\"children\"]))\n",
    "            patient_dict[\"smoker\"].append(row[\"smoker\"])\n",
    "            patient_dict[\"region\"].append(row[\"region\"])\n",
    "            patient_dict[\"charges\"].append(float(row[\"charges\"]))\n",
    "    \n",
    "    return patient_dict\n",
    "\n",
    "# Print summary of the data\n",
    "def print_summary(data, num_samples=5):\n",
    "    \"\"\"Print a summary of the data.\"\"\"\n",
    "    print(\"Data Summary:\")\n",
    "    for key, values in data.items():\n",
    "        print(f\"\\n{key}:\")\n",
    "        print(f\"  Number of entries: {len(values)}\")\n",
    "        print(f\"  Sample values: {values[:num_samples]}\")  # Show a sample of values\n",
    "\n",
    "filename = 'insurance.csv'\n",
    "data = load_data_into_lists(filename)\n",
    "print_summary(data)"
   ]
  },
  {
   "cell_type": "markdown",
   "id": "0d6054b0",
   "metadata": {},
   "source": [
    "# Data Analysis"
   ]
  },
  {
   "cell_type": "markdown",
   "id": "87780755",
   "metadata": {},
   "source": [
    "Now that all the data from **insurance.csv** neatly organized into labeled lists, the analysis can be started. This is where one must plan out what to investigate and how to perform the analysis. There are many aspects of the data that could be looked into. The following operations will be implemented:\n",
    "\n",
    "* find average age of all patients\n",
    "* find average annual medical insurance costs for all patients\n",
    "* return the number of males vs. females counted in the dataset\n",
    "* calculate the average insurance costs for smokers vs. non-smokers\n",
    "* calculate the average insurance costs for males compared to females\n",
    "* find the average bmi for males compared to females\n",
    "* find out how many males smoke compared to females\n",
    "\n"
   ]
  },
  {
   "cell_type": "markdown",
   "id": "212aa652",
   "metadata": {},
   "source": [
    "### Average Age of All Patients"
   ]
  },
  {
   "cell_type": "code",
   "execution_count": 13,
   "id": "1712cd9e",
   "metadata": {},
   "outputs": [
    {
     "name": "stdout",
     "output_type": "stream",
     "text": [
      "Average age of all patients: 39.20702541106129\n"
     ]
    }
   ],
   "source": [
    "def calculate_average_age(patient_data):\n",
    "    # Extract the list of ages\n",
    "    ages = patient_data[\"age\"]\n",
    "    \n",
    "    # Calculate the average age\n",
    "    average_age = sum(ages) / len(ages)\n",
    "    \n",
    "    return average_age\n",
    "\n",
    "filename = 'insurance.csv'\n",
    "patient_data = load_data_into_lists(filename)\n",
    "average_age = calculate_average_age(patient_data)\n",
    "\n",
    "print(f\"Average age of all patients: {average_age}\")"
   ]
  },
  {
   "cell_type": "markdown",
   "id": "f97f9b71",
   "metadata": {},
   "source": [
    "The average patient age is around 39 years old."
   ]
  },
  {
   "cell_type": "markdown",
   "id": "76dfa60b",
   "metadata": {},
   "source": [
    "### Average Annual Medical Insurance Cost for all Patients"
   ]
  },
  {
   "cell_type": "code",
   "execution_count": 16,
   "id": "d00b9a91",
   "metadata": {},
   "outputs": [
    {
     "name": "stdout",
     "output_type": "stream",
     "text": [
      "Average insurance cost: 13270.42 U.S. dollars.\n"
     ]
    }
   ],
   "source": [
    "def calculate_average_insurance_cost(patient_data):\n",
    "    # Extract the list of insurance charges\n",
    "    insurance_charges = patient_data['charges']\n",
    "    \n",
    "    # Calculate the average insurance cost\n",
    "    average_cost = sum(insurance_charges) / len(insurance_charges)\n",
    "    \n",
    "    rounded_average_cost = round(average_cost, 2)\n",
    "    \n",
    "    return rounded_average_cost\n",
    "\n",
    "# Usage\n",
    "filename = 'insurance.csv'\n",
    "patient_data = load_data_into_lists(filename)\n",
    "average_insurance_cost = calculate_average_insurance_cost(patient_data)\n",
    "\n",
    "print(f\"Average insurance cost: {average_insurance_cost} U.S. dollars.\")"
   ]
  },
  {
   "cell_type": "markdown",
   "id": "2524e0a5",
   "metadata": {},
   "source": [
    "### Average Insurance Cost for Smoker vs. Non-Smoker"
   ]
  },
  {
   "cell_type": "code",
   "execution_count": 18,
   "id": "4bc67049",
   "metadata": {},
   "outputs": [
    {
     "name": "stdout",
     "output_type": "stream",
     "text": [
      "Average charges for smokers: 32050.23 U.S. dollars.\n",
      "Average charges for non-smokers: 8434.27 U.S. dollars.\n"
     ]
    }
   ],
   "source": [
    "def calculate_average_charges_by_smoker_status(patient_data):\n",
    "    # Separate charges by smoker status\n",
    "    smoker_charges = []\n",
    "    non_smoker_charges = []\n",
    "    \n",
    "    for smoker, charge in zip(patient_data['smoker'], patient_data['charges']):\n",
    "        if smoker == 'yes':\n",
    "            smoker_charges.append(charge)\n",
    "        elif smoker == 'no':\n",
    "            non_smoker_charges.append(charge)\n",
    "    \n",
    "    # Calculate averages\n",
    "    average_smoker_charges = sum(smoker_charges) / len(smoker_charges)\n",
    "    average_non_smoker_charges = sum(non_smoker_charges) / len(non_smoker_charges)\n",
    "    \n",
    "    rounded_average_smoker_charges = round(average_smoker_charges, 2)\n",
    "    rounded_average_non_smoker_charges = round(average_non_smoker_charges, 2)\n",
    "    \n",
    "    return rounded_average_smoker_charges, rounded_average_non_smoker_charges\n",
    "\n",
    "# Usage\n",
    "filename = 'insurance.csv'\n",
    "patient_data = load_data_into_lists(filename)\n",
    "average_smoker_charges, average_non_smoker_charges = calculate_average_charges_by_smoker_status(patient_data)\n",
    "\n",
    "print(f\"Average charges for smokers: {average_smoker_charges} U.S. dollars.\")\n",
    "print(f\"Average charges for non-smokers: {average_non_smoker_charges} U.S. dollars.\")"
   ]
  },
  {
   "cell_type": "markdown",
   "id": "6037ef98",
   "metadata": {},
   "source": [
    "The average insurance costs for smokers is significantly higher than that for non-smokers, given the negative health implications of smoking."
   ]
  },
  {
   "cell_type": "markdown",
   "id": "21fa14b4",
   "metadata": {},
   "source": [
    "### Males vs. Females"
   ]
  },
  {
   "cell_type": "code",
   "execution_count": 21,
   "id": "ce52105a",
   "metadata": {},
   "outputs": [
    {
     "name": "stdout",
     "output_type": "stream",
     "text": [
      "Number of males: 676\n",
      "Number of females: 662\n"
     ]
    }
   ],
   "source": [
    "def count_genders(patient_data):\n",
    "    # Extract the list of genders\n",
    "    genders = patient_data[\"sex\"]\n",
    "    \n",
    "    # Count the number of males and females\n",
    "    num_males = genders.count(\"male\")\n",
    "    num_females = genders.count(\"female\")\n",
    "    \n",
    "    return num_males, num_females\n",
    "\n",
    "# Usage\n",
    "filename = 'insurance.csv'\n",
    "patient_data = load_data_into_lists(filename)\n",
    "num_males, num_females = count_genders(patient_data)\n",
    "\n",
    "print(f\"Number of males: {num_males}\")\n",
    "print(f\"Number of females: {num_females}\")"
   ]
  },
  {
   "cell_type": "markdown",
   "id": "21a27208",
   "metadata": {},
   "source": [
    "### Average Insurance Costs for Males vs. Females"
   ]
  },
  {
   "cell_type": "code",
   "execution_count": 23,
   "id": "d8b742c3",
   "metadata": {},
   "outputs": [
    {
     "name": "stdout",
     "output_type": "stream",
     "text": [
      "Average charges for females: 12569.58 U.S. dollars.\n",
      "Average charges for males: 13956.75 U.S. dollars.\n"
     ]
    }
   ],
   "source": [
    "def calculate_average_charges(patient_data):\n",
    "    # Separate charges by gender\n",
    "    female_charges = []\n",
    "    male_charges = []\n",
    "    \n",
    "    for sex, charge in zip(patient_data['sex'], patient_data['charges']):\n",
    "        if sex == 'female':\n",
    "            female_charges.append(charge)\n",
    "        elif sex == 'male':\n",
    "            male_charges.append(charge)\n",
    "    \n",
    "    # Calculate averages\n",
    "    average_female_charges = sum(female_charges) / len(female_charges)\n",
    "    average_male_charges = sum(male_charges) / len(male_charges)\n",
    "    \n",
    "    rounded_average_female_charges = round(average_female_charges, 2)\n",
    "    rounded_average_male_charges = round(average_male_charges, 2)\n",
    "    \n",
    "    return rounded_average_female_charges, rounded_average_male_charges\n",
    "\n",
    "# Usage\n",
    "filename = 'insurance.csv'\n",
    "patient_data = load_data_into_lists(filename)\n",
    "average_female_charges, average_male_charges = calculate_average_charges(patient_data)\n",
    "\n",
    "print(f\"Average charges for females: {average_female_charges} U.S. dollars.\")\n",
    "print(f\"Average charges for males: {average_male_charges} U.S. dollars.\")"
   ]
  },
  {
   "cell_type": "markdown",
   "id": "89afe1ff",
   "metadata": {},
   "source": [
    "Despite there being 14 more males than females in this dataset, the average insurance cost for males is higher than that for females. The reason for this is not obvious yet, therefore this could be further explored by comparing the average age and bmi of males to females, checking to see if there is also a link between sex and smoking or sex and number of children in this dataset. This will be explored below."
   ]
  },
  {
   "cell_type": "markdown",
   "id": "3ded3c9f",
   "metadata": {},
   "source": [
    "### Average Ages of Males vs. Females"
   ]
  },
  {
   "cell_type": "code",
   "execution_count": 26,
   "id": "896f4cdc",
   "metadata": {},
   "outputs": [
    {
     "name": "stdout",
     "output_type": "stream",
     "text": [
      "Average age for females: 39.503021148036254\n",
      "Average age for males: 38.917159763313606\n"
     ]
    }
   ],
   "source": [
    "def calculate_average_ages_by_sex(patient_data):\n",
    "    # Separate ages by gender\n",
    "    female_ages = []\n",
    "    male_ages = []\n",
    "    \n",
    "    for sex, age in zip(patient_data['sex'], patient_data['age']):\n",
    "        if sex == 'female':\n",
    "            female_ages.append(age)\n",
    "        elif sex == 'male':\n",
    "            male_ages.append(age)\n",
    "    \n",
    "    # Calculate averages\n",
    "    average_female_age = sum(female_ages) / len(female_ages)\n",
    "    average_male_age = sum(male_ages) / len(male_ages)\n",
    "    \n",
    "    return average_female_age, average_male_age\n",
    "\n",
    "# Usage\n",
    "filename = 'insurance.csv'\n",
    "patient_data = load_data_into_lists(filename)\n",
    "average_female_age, average_male_age = calculate_average_ages_by_sex(patient_data)\n",
    "\n",
    "print(f\"Average age for females: {average_female_age}\")\n",
    "print(f\"Average age for males: {average_male_age}\")"
   ]
  },
  {
   "cell_type": "markdown",
   "id": "e535e87d",
   "metadata": {},
   "source": [
    "The average age of the males is lower than that of the females. This does not explain the difference in costs as we would assume that younger patients are healthier and therefore have lower insurance costs."
   ]
  },
  {
   "cell_type": "markdown",
   "id": "7884baa9",
   "metadata": {},
   "source": [
    "### Average BMI for Males vs. Females"
   ]
  },
  {
   "cell_type": "code",
   "execution_count": 29,
   "id": "814009cd",
   "metadata": {},
   "outputs": [
    {
     "name": "stdout",
     "output_type": "stream",
     "text": [
      "Average bmi for females: 30.377749244713023\n",
      "Average bmi for males: 30.943128698224832\n"
     ]
    }
   ],
   "source": [
    "def calculate_average_ages_by_bmi(patient_data):\n",
    "    # Separate bmi by gender\n",
    "    female_bmi = []\n",
    "    male_bmi = []\n",
    "    \n",
    "    for sex, bmi in zip(patient_data['sex'], patient_data['bmi']):\n",
    "        if sex == 'female':\n",
    "            female_bmi.append(bmi)\n",
    "        elif sex == 'male':\n",
    "            male_bmi.append(bmi)\n",
    "    \n",
    "    # Calculate averages\n",
    "    average_female_bmi = sum(female_bmi) / len(female_bmi)\n",
    "    average_male_bmi = sum(male_bmi) / len(male_bmi)\n",
    "    \n",
    "    return average_female_bmi, average_male_bmi\n",
    "\n",
    "# Usage\n",
    "filename = 'insurance.csv'\n",
    "patient_data = load_data_into_lists(filename)\n",
    "average_female_bmi, average_male_bmi = calculate_average_ages_by_bmi(patient_data)\n",
    "\n",
    "print(f\"Average bmi for females: {average_female_bmi}\")\n",
    "print(f\"Average bmi for males: {average_male_bmi}\")"
   ]
  },
  {
   "cell_type": "markdown",
   "id": "939683e6",
   "metadata": {},
   "source": [
    "Males in this dataset have a slightly higher Body Mass Index than the females. This could be a contributing factor to the higher insurance cost for males."
   ]
  },
  {
   "cell_type": "markdown",
   "id": "e137f520",
   "metadata": {},
   "source": [
    "### Who Smokes More, Males or Females?"
   ]
  },
  {
   "cell_type": "markdown",
   "id": "b74eea73",
   "metadata": {},
   "source": [
    "Next, we will analyse the data further to see if more males in this dataset smoke more than the females as this could provide another reason for why their insurance costs are higher."
   ]
  },
  {
   "cell_type": "code",
   "execution_count": 33,
   "id": "48b6810b",
   "metadata": {},
   "outputs": [
    {
     "name": "stdout",
     "output_type": "stream",
     "text": [
      "Number of female smokers: 115\n",
      "Number of male smokers: 159\n"
     ]
    }
   ],
   "source": [
    "def number_of_smokers_by_sex(patient_data):\n",
    "    # Separate by gender\n",
    "    female_smokers = 0\n",
    "    male_smokers = 0\n",
    "    \n",
    "    for sex, smoker in zip(patient_data['sex'], patient_data['smoker']):\n",
    "        if sex == 'female' and smoker == 'yes':\n",
    "            female_smokers += 1\n",
    "        elif sex == 'male' and smoker == 'yes':\n",
    "            male_smokers += 1\n",
    "    \n",
    "    return female_smokers, male_smokers\n",
    "\n",
    "# Usage\n",
    "filename = 'insurance.csv'\n",
    "patient_data = load_data_into_lists(filename)\n",
    "female_smokers, male_smokers = number_of_smokers_by_sex(patient_data)\n",
    "\n",
    "print(f\"Number of female smokers: {female_smokers}\")\n",
    "print(f\"Number of male smokers: {male_smokers}\")"
   ]
  },
  {
   "cell_type": "markdown",
   "id": "e2565d35",
   "metadata": {},
   "source": [
    "We can see that 44 more males smoke than females in this dataset. This is likely to have a significant impact on the higher insurance costs for males as we previously seen that smoking has a huge impact on insurance costs."
   ]
  },
  {
   "cell_type": "markdown",
   "id": "b8e4aa3a",
   "metadata": {},
   "source": [
    "# Conclusion "
   ]
  },
  {
   "cell_type": "markdown",
   "id": "a25d0019",
   "metadata": {},
   "source": [
    "In this project, data on U.S. medical insurance costs were analysed. The data was able to prove the assumption that patients who smoke have higher insurance costs compared to non-smokers given the health risks of smoking. The average age of the patients was 40 years old whereby males were slightly younger than the females. Despite this, it was found that men had a higher average insurance cost compared to females. Investigating this lead to a discovery that more of the males in the dataset were smokers which is likely to have had an impact on their higher insurance costs."
   ]
  }
 ],
 "metadata": {
  "kernelspec": {
   "display_name": "Python 3 (ipykernel)",
   "language": "python",
   "name": "python3"
  },
  "language_info": {
   "codemirror_mode": {
    "name": "ipython",
    "version": 3
   },
   "file_extension": ".py",
   "mimetype": "text/x-python",
   "name": "python",
   "nbconvert_exporter": "python",
   "pygments_lexer": "ipython3",
   "version": "3.11.7"
  }
 },
 "nbformat": 4,
 "nbformat_minor": 5
}
